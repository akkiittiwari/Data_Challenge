{
 "cells": [
  {
   "cell_type": "markdown",
   "metadata": {},
   "source": [
    "# Ensemble Energy data exercise"
   ]
  },
  {
   "cell_type": "markdown",
   "metadata": {},
   "source": [
    "- Problem Statement:"
   ]
  },
  {
   "cell_type": "markdown",
   "metadata": {},
   "source": [
    "Build a predictive model for predicting 'Target' variable using all the features.  Goal is to increase the F1 score. And please explain why F1 score is the right metric for this problem. \n",
    "\n",
    "Please use Pythion and send the code and results summary (confusion matrix) in 48 hours.\n",
    "\n",
    "Note: Please replace all the missing values/nulls with zeroes.\n"
   ]
  },
  {
   "cell_type": "markdown",
   "metadata": {},
   "source": [
    "- Solution:"
   ]
  },
  {
   "cell_type": "code",
   "execution_count": 236,
   "metadata": {},
   "outputs": [],
   "source": [
    "import pandas as pd\n",
    "import numpy as np\n",
    "\n",
    "import matplotlib.pyplot as plt\n",
    "from matplotlib import rcParams, colors\n",
    "rcParams['figure.figsize'] = 15,7\n",
    "import warnings\n",
    "warnings.filterwarnings('ignore')\n",
    "%matplotlib inline\n",
    "import seaborn as sns\n",
    "sns.set_style(\"whitegrid\")\n",
    "\n",
    "from sklearn.linear_model import LogisticRegression\n",
    "from sklearn.ensemble import RandomForestClassifier\n",
    "from sklearn.neighbors import KNeighborsClassifier\n",
    "from sklearn.model_selection import train_test_split\n",
    "from sklearn.model_selection import KFold, cross_val_score, GridSearchCV\n",
    "from sklearn.preprocessing import StandardScaler\n",
    "from sklearn.metrics import confusion_matrix, fbeta_score, average_precision_score\n",
    "from sklearn.metrics import accuracy_score, f1_score, precision_score, recall_score, log_loss\n",
    "from imblearn.combine import SMOTETomek\n",
    "\n",
    "%matplotlib inline"
   ]
  },
  {
   "cell_type": "markdown",
   "metadata": {
    "heading_collapsed": true
   },
   "source": [
    "## Loading Data"
   ]
  },
  {
   "cell_type": "code",
   "execution_count": 237,
   "metadata": {
    "collapsed": true,
    "hidden": true
   },
   "outputs": [],
   "source": [
    "data = pd.read_excel('./Data for classification.xlsx')"
   ]
  },
  {
   "cell_type": "code",
   "execution_count": 238,
   "metadata": {
    "hidden": true
   },
   "outputs": [
    {
     "data": {
      "text/html": [
       "<div>\n",
       "<style scoped>\n",
       "    .dataframe tbody tr th:only-of-type {\n",
       "        vertical-align: middle;\n",
       "    }\n",
       "\n",
       "    .dataframe tbody tr th {\n",
       "        vertical-align: top;\n",
       "    }\n",
       "\n",
       "    .dataframe thead th {\n",
       "        text-align: right;\n",
       "    }\n",
       "</style>\n",
       "<table border=\"1\" class=\"dataframe\">\n",
       "  <thead>\n",
       "    <tr style=\"text-align: right;\">\n",
       "      <th></th>\n",
       "      <th>ID</th>\n",
       "      <th>feature_1</th>\n",
       "      <th>feature_2</th>\n",
       "      <th>feature_3</th>\n",
       "      <th>feature_4</th>\n",
       "      <th>feature_5</th>\n",
       "      <th>feature_6</th>\n",
       "      <th>feature_7</th>\n",
       "      <th>feature_8</th>\n",
       "      <th>feature_9</th>\n",
       "      <th>...</th>\n",
       "      <th>feature_11</th>\n",
       "      <th>feature_12</th>\n",
       "      <th>feature_13</th>\n",
       "      <th>feature_14</th>\n",
       "      <th>feature_15</th>\n",
       "      <th>feature_16</th>\n",
       "      <th>feature_17</th>\n",
       "      <th>feature_18</th>\n",
       "      <th>feature_19</th>\n",
       "      <th>Target</th>\n",
       "    </tr>\n",
       "  </thead>\n",
       "  <tbody>\n",
       "    <tr>\n",
       "      <th>0</th>\n",
       "      <td>C1</td>\n",
       "      <td>33.05</td>\n",
       "      <td>0.36</td>\n",
       "      <td>NaN</td>\n",
       "      <td>1.0</td>\n",
       "      <td>0.0</td>\n",
       "      <td>0.0</td>\n",
       "      <td>0.0</td>\n",
       "      <td>NaN</td>\n",
       "      <td>NaN</td>\n",
       "      <td>...</td>\n",
       "      <td>42.0</td>\n",
       "      <td>7.0</td>\n",
       "      <td>NaN</td>\n",
       "      <td>NaN</td>\n",
       "      <td>0.0</td>\n",
       "      <td>0.0</td>\n",
       "      <td>1.0</td>\n",
       "      <td>NaN</td>\n",
       "      <td>0.0</td>\n",
       "      <td>NaN</td>\n",
       "    </tr>\n",
       "    <tr>\n",
       "      <th>1</th>\n",
       "      <td>C4</td>\n",
       "      <td>29.01</td>\n",
       "      <td>0.35</td>\n",
       "      <td>NaN</td>\n",
       "      <td>1.0</td>\n",
       "      <td>0.0</td>\n",
       "      <td>0.0</td>\n",
       "      <td>0.0</td>\n",
       "      <td>4.0</td>\n",
       "      <td>NaN</td>\n",
       "      <td>...</td>\n",
       "      <td>45.0</td>\n",
       "      <td>NaN</td>\n",
       "      <td>NaN</td>\n",
       "      <td>NaN</td>\n",
       "      <td>0.0</td>\n",
       "      <td>0.0</td>\n",
       "      <td>1.0</td>\n",
       "      <td>1.0</td>\n",
       "      <td>0.0</td>\n",
       "      <td>NaN</td>\n",
       "    </tr>\n",
       "    <tr>\n",
       "      <th>2</th>\n",
       "      <td>C5</td>\n",
       "      <td>60.10</td>\n",
       "      <td>0.10</td>\n",
       "      <td>NaN</td>\n",
       "      <td>NaN</td>\n",
       "      <td>NaN</td>\n",
       "      <td>NaN</td>\n",
       "      <td>NaN</td>\n",
       "      <td>1.0</td>\n",
       "      <td>NaN</td>\n",
       "      <td>...</td>\n",
       "      <td>26.0</td>\n",
       "      <td>NaN</td>\n",
       "      <td>NaN</td>\n",
       "      <td>NaN</td>\n",
       "      <td>0.0</td>\n",
       "      <td>0.0</td>\n",
       "      <td>NaN</td>\n",
       "      <td>NaN</td>\n",
       "      <td>NaN</td>\n",
       "      <td>NaN</td>\n",
       "    </tr>\n",
       "    <tr>\n",
       "      <th>3</th>\n",
       "      <td>C6</td>\n",
       "      <td>23.05</td>\n",
       "      <td>0.92</td>\n",
       "      <td>NaN</td>\n",
       "      <td>0.0</td>\n",
       "      <td>0.0</td>\n",
       "      <td>1.0</td>\n",
       "      <td>0.0</td>\n",
       "      <td>1.0</td>\n",
       "      <td>NaN</td>\n",
       "      <td>...</td>\n",
       "      <td>26.0</td>\n",
       "      <td>6.0</td>\n",
       "      <td>NaN</td>\n",
       "      <td>NaN</td>\n",
       "      <td>0.0</td>\n",
       "      <td>0.0</td>\n",
       "      <td>1.0</td>\n",
       "      <td>0.0</td>\n",
       "      <td>0.0</td>\n",
       "      <td>NaN</td>\n",
       "    </tr>\n",
       "    <tr>\n",
       "      <th>4</th>\n",
       "      <td>C8</td>\n",
       "      <td>44.18</td>\n",
       "      <td>1.18</td>\n",
       "      <td>NaN</td>\n",
       "      <td>1.0</td>\n",
       "      <td>0.0</td>\n",
       "      <td>0.0</td>\n",
       "      <td>0.0</td>\n",
       "      <td>NaN</td>\n",
       "      <td>NaN</td>\n",
       "      <td>...</td>\n",
       "      <td>20.0</td>\n",
       "      <td>NaN</td>\n",
       "      <td>NaN</td>\n",
       "      <td>NaN</td>\n",
       "      <td>0.0</td>\n",
       "      <td>0.0</td>\n",
       "      <td>1.0</td>\n",
       "      <td>1.0</td>\n",
       "      <td>0.0</td>\n",
       "      <td>NaN</td>\n",
       "    </tr>\n",
       "  </tbody>\n",
       "</table>\n",
       "<p>5 rows × 21 columns</p>\n",
       "</div>"
      ],
      "text/plain": [
       "   ID  feature_1  feature_2  feature_3  feature_4  feature_5  feature_6  \\\n",
       "0  C1      33.05       0.36        NaN        1.0        0.0        0.0   \n",
       "1  C4      29.01       0.35        NaN        1.0        0.0        0.0   \n",
       "2  C5      60.10       0.10        NaN        NaN        NaN        NaN   \n",
       "3  C6      23.05       0.92        NaN        0.0        0.0        1.0   \n",
       "4  C8      44.18       1.18        NaN        1.0        0.0        0.0   \n",
       "\n",
       "   feature_7  feature_8  feature_9   ...    feature_11  feature_12  \\\n",
       "0        0.0        NaN        NaN   ...          42.0         7.0   \n",
       "1        0.0        4.0        NaN   ...          45.0         NaN   \n",
       "2        NaN        1.0        NaN   ...          26.0         NaN   \n",
       "3        0.0        1.0        NaN   ...          26.0         6.0   \n",
       "4        0.0        NaN        NaN   ...          20.0         NaN   \n",
       "\n",
       "   feature_13  feature_14  feature_15  feature_16  feature_17  feature_18  \\\n",
       "0         NaN         NaN         0.0         0.0         1.0         NaN   \n",
       "1         NaN         NaN         0.0         0.0         1.0         1.0   \n",
       "2         NaN         NaN         0.0         0.0         NaN         NaN   \n",
       "3         NaN         NaN         0.0         0.0         1.0         0.0   \n",
       "4         NaN         NaN         0.0         0.0         1.0         1.0   \n",
       "\n",
       "   feature_19  Target  \n",
       "0         0.0     NaN  \n",
       "1         0.0     NaN  \n",
       "2         NaN     NaN  \n",
       "3         0.0     NaN  \n",
       "4         0.0     NaN  \n",
       "\n",
       "[5 rows x 21 columns]"
      ]
     },
     "execution_count": 238,
     "metadata": {},
     "output_type": "execute_result"
    }
   ],
   "source": [
    "data.head()"
   ]
  },
  {
   "cell_type": "code",
   "execution_count": 239,
   "metadata": {
    "hidden": true,
    "scrolled": false
   },
   "outputs": [
    {
     "name": "stdout",
     "output_type": "stream",
     "text": [
      "<class 'pandas.core.frame.DataFrame'>\n",
      "RangeIndex: 15070 entries, 0 to 15069\n",
      "Data columns (total 21 columns):\n",
      "ID            15070 non-null object\n",
      "feature_1     15070 non-null float64\n",
      "feature_2     13892 non-null float64\n",
      "feature_3     114 non-null float64\n",
      "feature_4     13078 non-null float64\n",
      "feature_5     13078 non-null float64\n",
      "feature_6     13078 non-null float64\n",
      "feature_7     13078 non-null float64\n",
      "feature_8     4285 non-null float64\n",
      "feature_9     0 non-null float64\n",
      "feature_10    14945 non-null float64\n",
      "feature_11    13292 non-null float64\n",
      "feature_12    7800 non-null float64\n",
      "feature_13    3374 non-null float64\n",
      "feature_14    807 non-null float64\n",
      "feature_15    13651 non-null float64\n",
      "feature_16    13651 non-null float64\n",
      "feature_17    8750 non-null float64\n",
      "feature_18    6899 non-null float64\n",
      "feature_19    9912 non-null float64\n",
      "Target        2044 non-null float64\n",
      "dtypes: float64(20), object(1)\n",
      "memory usage: 2.4+ MB\n"
     ]
    }
   ],
   "source": [
    "data.info()"
   ]
  },
  {
   "cell_type": "markdown",
   "metadata": {
    "heading_collapsed": true
   },
   "source": [
    "## Preprocessing"
   ]
  },
  {
   "cell_type": "code",
   "execution_count": 240,
   "metadata": {
    "hidden": true
   },
   "outputs": [
    {
     "data": {
      "text/html": [
       "<div>\n",
       "<style scoped>\n",
       "    .dataframe tbody tr th:only-of-type {\n",
       "        vertical-align: middle;\n",
       "    }\n",
       "\n",
       "    .dataframe tbody tr th {\n",
       "        vertical-align: top;\n",
       "    }\n",
       "\n",
       "    .dataframe thead th {\n",
       "        text-align: right;\n",
       "    }\n",
       "</style>\n",
       "<table border=\"1\" class=\"dataframe\">\n",
       "  <thead>\n",
       "    <tr style=\"text-align: right;\">\n",
       "      <th></th>\n",
       "      <th>ID</th>\n",
       "      <th>feature_1</th>\n",
       "      <th>feature_2</th>\n",
       "      <th>feature_3</th>\n",
       "      <th>feature_4</th>\n",
       "      <th>feature_5</th>\n",
       "      <th>feature_6</th>\n",
       "      <th>feature_7</th>\n",
       "      <th>feature_8</th>\n",
       "      <th>feature_9</th>\n",
       "      <th>...</th>\n",
       "      <th>feature_11</th>\n",
       "      <th>feature_12</th>\n",
       "      <th>feature_13</th>\n",
       "      <th>feature_14</th>\n",
       "      <th>feature_15</th>\n",
       "      <th>feature_16</th>\n",
       "      <th>feature_17</th>\n",
       "      <th>feature_18</th>\n",
       "      <th>feature_19</th>\n",
       "      <th>Target</th>\n",
       "    </tr>\n",
       "  </thead>\n",
       "  <tbody>\n",
       "    <tr>\n",
       "      <th>0</th>\n",
       "      <td>C1</td>\n",
       "      <td>33.05</td>\n",
       "      <td>0.36</td>\n",
       "      <td>0.0</td>\n",
       "      <td>1.0</td>\n",
       "      <td>0.0</td>\n",
       "      <td>0.0</td>\n",
       "      <td>0.0</td>\n",
       "      <td>0.0</td>\n",
       "      <td>0.0</td>\n",
       "      <td>...</td>\n",
       "      <td>42.0</td>\n",
       "      <td>7.0</td>\n",
       "      <td>0.0</td>\n",
       "      <td>0.0</td>\n",
       "      <td>0.0</td>\n",
       "      <td>0.0</td>\n",
       "      <td>1.0</td>\n",
       "      <td>0.0</td>\n",
       "      <td>0.0</td>\n",
       "      <td>0.0</td>\n",
       "    </tr>\n",
       "    <tr>\n",
       "      <th>1</th>\n",
       "      <td>C4</td>\n",
       "      <td>29.01</td>\n",
       "      <td>0.35</td>\n",
       "      <td>0.0</td>\n",
       "      <td>1.0</td>\n",
       "      <td>0.0</td>\n",
       "      <td>0.0</td>\n",
       "      <td>0.0</td>\n",
       "      <td>4.0</td>\n",
       "      <td>0.0</td>\n",
       "      <td>...</td>\n",
       "      <td>45.0</td>\n",
       "      <td>0.0</td>\n",
       "      <td>0.0</td>\n",
       "      <td>0.0</td>\n",
       "      <td>0.0</td>\n",
       "      <td>0.0</td>\n",
       "      <td>1.0</td>\n",
       "      <td>1.0</td>\n",
       "      <td>0.0</td>\n",
       "      <td>0.0</td>\n",
       "    </tr>\n",
       "    <tr>\n",
       "      <th>2</th>\n",
       "      <td>C5</td>\n",
       "      <td>60.10</td>\n",
       "      <td>0.10</td>\n",
       "      <td>0.0</td>\n",
       "      <td>0.0</td>\n",
       "      <td>0.0</td>\n",
       "      <td>0.0</td>\n",
       "      <td>0.0</td>\n",
       "      <td>1.0</td>\n",
       "      <td>0.0</td>\n",
       "      <td>...</td>\n",
       "      <td>26.0</td>\n",
       "      <td>0.0</td>\n",
       "      <td>0.0</td>\n",
       "      <td>0.0</td>\n",
       "      <td>0.0</td>\n",
       "      <td>0.0</td>\n",
       "      <td>0.0</td>\n",
       "      <td>0.0</td>\n",
       "      <td>0.0</td>\n",
       "      <td>0.0</td>\n",
       "    </tr>\n",
       "    <tr>\n",
       "      <th>3</th>\n",
       "      <td>C6</td>\n",
       "      <td>23.05</td>\n",
       "      <td>0.92</td>\n",
       "      <td>0.0</td>\n",
       "      <td>0.0</td>\n",
       "      <td>0.0</td>\n",
       "      <td>1.0</td>\n",
       "      <td>0.0</td>\n",
       "      <td>1.0</td>\n",
       "      <td>0.0</td>\n",
       "      <td>...</td>\n",
       "      <td>26.0</td>\n",
       "      <td>6.0</td>\n",
       "      <td>0.0</td>\n",
       "      <td>0.0</td>\n",
       "      <td>0.0</td>\n",
       "      <td>0.0</td>\n",
       "      <td>1.0</td>\n",
       "      <td>0.0</td>\n",
       "      <td>0.0</td>\n",
       "      <td>0.0</td>\n",
       "    </tr>\n",
       "    <tr>\n",
       "      <th>4</th>\n",
       "      <td>C8</td>\n",
       "      <td>44.18</td>\n",
       "      <td>1.18</td>\n",
       "      <td>0.0</td>\n",
       "      <td>1.0</td>\n",
       "      <td>0.0</td>\n",
       "      <td>0.0</td>\n",
       "      <td>0.0</td>\n",
       "      <td>0.0</td>\n",
       "      <td>0.0</td>\n",
       "      <td>...</td>\n",
       "      <td>20.0</td>\n",
       "      <td>0.0</td>\n",
       "      <td>0.0</td>\n",
       "      <td>0.0</td>\n",
       "      <td>0.0</td>\n",
       "      <td>0.0</td>\n",
       "      <td>1.0</td>\n",
       "      <td>1.0</td>\n",
       "      <td>0.0</td>\n",
       "      <td>0.0</td>\n",
       "    </tr>\n",
       "  </tbody>\n",
       "</table>\n",
       "<p>5 rows × 21 columns</p>\n",
       "</div>"
      ],
      "text/plain": [
       "   ID  feature_1  feature_2  feature_3  feature_4  feature_5  feature_6  \\\n",
       "0  C1      33.05       0.36        0.0        1.0        0.0        0.0   \n",
       "1  C4      29.01       0.35        0.0        1.0        0.0        0.0   \n",
       "2  C5      60.10       0.10        0.0        0.0        0.0        0.0   \n",
       "3  C6      23.05       0.92        0.0        0.0        0.0        1.0   \n",
       "4  C8      44.18       1.18        0.0        1.0        0.0        0.0   \n",
       "\n",
       "   feature_7  feature_8  feature_9   ...    feature_11  feature_12  \\\n",
       "0        0.0        0.0        0.0   ...          42.0         7.0   \n",
       "1        0.0        4.0        0.0   ...          45.0         0.0   \n",
       "2        0.0        1.0        0.0   ...          26.0         0.0   \n",
       "3        0.0        1.0        0.0   ...          26.0         6.0   \n",
       "4        0.0        0.0        0.0   ...          20.0         0.0   \n",
       "\n",
       "   feature_13  feature_14  feature_15  feature_16  feature_17  feature_18  \\\n",
       "0         0.0         0.0         0.0         0.0         1.0         0.0   \n",
       "1         0.0         0.0         0.0         0.0         1.0         1.0   \n",
       "2         0.0         0.0         0.0         0.0         0.0         0.0   \n",
       "3         0.0         0.0         0.0         0.0         1.0         0.0   \n",
       "4         0.0         0.0         0.0         0.0         1.0         1.0   \n",
       "\n",
       "   feature_19  Target  \n",
       "0         0.0     0.0  \n",
       "1         0.0     0.0  \n",
       "2         0.0     0.0  \n",
       "3         0.0     0.0  \n",
       "4         0.0     0.0  \n",
       "\n",
       "[5 rows x 21 columns]"
      ]
     },
     "execution_count": 240,
     "metadata": {},
     "output_type": "execute_result"
    }
   ],
   "source": [
    "data = data.fillna(0)\n",
    "data.head()"
   ]
  },
  {
   "cell_type": "code",
   "execution_count": 241,
   "metadata": {
    "hidden": true
   },
   "outputs": [
    {
     "name": "stdout",
     "output_type": "stream",
     "text": [
      "Number of null in the set :  ID            0\n",
      "feature_1     0\n",
      "feature_2     0\n",
      "feature_3     0\n",
      "feature_4     0\n",
      "feature_5     0\n",
      "feature_6     0\n",
      "feature_7     0\n",
      "feature_8     0\n",
      "feature_9     0\n",
      "feature_10    0\n",
      "feature_11    0\n",
      "feature_12    0\n",
      "feature_13    0\n",
      "feature_14    0\n",
      "feature_15    0\n",
      "feature_16    0\n",
      "feature_17    0\n",
      "feature_18    0\n",
      "feature_19    0\n",
      "Target        0\n",
      "dtype: int64\n"
     ]
    }
   ],
   "source": [
    "## checking for nulls after imputing 0\n",
    "print ('Number of null in the set : ', pd.isnull(data).sum())"
   ]
  },
  {
   "cell_type": "markdown",
   "metadata": {
    "heading_collapsed": true,
    "hidden": true
   },
   "source": [
    "### Checking response class balance"
   ]
  },
  {
   "cell_type": "code",
   "execution_count": 242,
   "metadata": {
    "hidden": true
   },
   "outputs": [
    {
     "name": "stdout",
     "output_type": "stream",
     "text": [
      "0.0    0.890046\n",
      "1.0    0.109954\n",
      "Name: Target, dtype: float64\n"
     ]
    }
   ],
   "source": [
    "valueCounts = data.Target.value_counts() / len(data)\n",
    "print (valueCounts)"
   ]
  },
  {
   "cell_type": "markdown",
   "metadata": {
    "hidden": true
   },
   "source": [
    "- We see that there is an imbalance of classes, where positive class is just 10% of the dataset"
   ]
  },
  {
   "cell_type": "code",
   "execution_count": 243,
   "metadata": {
    "hidden": true
   },
   "outputs": [
    {
     "data": {
      "text/plain": [
       "<matplotlib.axes._subplots.AxesSubplot at 0x11690d710>"
      ]
     },
     "execution_count": 243,
     "metadata": {},
     "output_type": "execute_result"
    },
    {
     "data": {
      "image/png": "[encoded data removed]",
      "text/plain": [
       "<Figure size 432x288 with 1 Axes>"
      ]
     },
     "metadata": {},
     "output_type": "display_data"
    }
   ],
   "source": [
    "valueCounts.plot.barh()"
   ]
  },
  {
   "cell_type": "markdown",
   "metadata": {
    "hidden": true
   },
   "source": [
    "### preparing the data for training"
   ]
  },
  {
   "cell_type": "code",
   "execution_count": 244,
   "metadata": {
    "hidden": true
   },
   "outputs": [
    {
     "name": "stdout",
     "output_type": "stream",
     "text": [
      "Dimension of each observation :  (1, 21)\n",
      "Shape of the training set :  (15070, 21)\n"
     ]
    }
   ],
   "source": [
    "print ('Dimension of each observation : ', (data[:1].shape))\n",
    "print ('Shape of the training set : ', data.shape)"
   ]
  },
  {
   "cell_type": "markdown",
   "metadata": {
    "hidden": true
   },
   "source": [
    "- We will ignore ID in training as it is unique for each observation and does not contribute to classification. Although, we could have Label encoded the ID but it doesn't make sense to use it in the model when it is not contributing to the classification"
   ]
  },
  {
   "cell_type": "code",
   "execution_count": 245,
   "metadata": {
    "hidden": true
   },
   "outputs": [],
   "source": [
    "x_train, x_test, y_train, y_test = train_test_split(data.iloc[:,1:20], data.Target, test_size=0.2, random_state=3)"
   ]
  },
  {
   "cell_type": "code",
   "execution_count": 246,
   "metadata": {
    "hidden": true,
    "scrolled": true
   },
   "outputs": [
    {
     "name": "stdout",
     "output_type": "stream",
     "text": [
      "Shape of Training data :  (12056, 19)\n",
      "Shape of Testing data :  (3014, 19)\n"
     ]
    }
   ],
   "source": [
    "print('Shape of Training data : ', x_train.shape)\n",
    "print('Shape of Testing data : ', x_test.shape)"
   ]
  },
  {
   "cell_type": "code",
   "execution_count": 247,
   "metadata": {
    "hidden": true
   },
   "outputs": [
    {
     "name": "stdout",
     "output_type": "stream",
     "text": [
      "Checking balance of response variable in Training set:\n",
      " 0.0    0.89076\n",
      "1.0    0.10924\n",
      "Name: Target, dtype: float64\n"
     ]
    }
   ],
   "source": [
    "valueCounts = y_train.value_counts() / len(y_train)\n",
    "print ('Checking balance of response variable in Training set:\\n', valueCounts)"
   ]
  },
  {
   "cell_type": "markdown",
   "metadata": {},
   "source": [
    "## EDA"
   ]
  },
  {
   "cell_type": "markdown",
   "metadata": {},
   "source": [
    "### Feature Correlation"
   ]
  },
  {
   "cell_type": "code",
   "execution_count": 248,
   "metadata": {},
   "outputs": [
    {
     "data": {
      "text/plain": [
       "<matplotlib.axes._subplots.AxesSubplot at 0x1163edef0>"
      ]
     },
     "execution_count": 248,
     "metadata": {},
     "output_type": "execute_result"
    },
    {
     "data": {
      "image/png": "[encoded data removed]",
      "text/plain": [
       "<Figure size 1008x720 with 2 Axes>"
      ]
     },
     "metadata": {},
     "output_type": "display_data"
    }
   ],
   "source": [
    "fig = plt.figure(figsize=(14,10))\n",
    "# sns.set(font_scale=1.2)\n",
    "numerical_feature=data.dtypes[data.dtypes!= 'object'].index\n",
    "corr = data[numerical_feature].corr()\n",
    "sns.heatmap(corr, cmap='Blues')"
   ]
  },
  {
   "cell_type": "markdown",
   "metadata": {},
   "source": [
    "We don't see any significant correlation between features and target, so we won't explore the correlation any further"
   ]
  },
  {
   "cell_type": "markdown",
   "metadata": {},
   "source": [
    "## Training and Validation"
   ]
  },
  {
   "cell_type": "markdown",
   "metadata": {},
   "source": [
    "### Validation metrics"
   ]
  },
  {
   "cell_type": "markdown",
   "metadata": {},
   "source": [
    "- F1 score : F-score is based on the precision and recall of the results which means that it individually focuses on prediction of each class rather than a common accuracy. In cases like these where dataset is imbalanced, the accuracy might turn out to be high by just predicting all observations as negatives (or majority class), but in reality out model is not performing well at all as it is not able to classify between the two classes. \n",
    "- F(2) score / F(0.5) score : F(2) or F(0.5) scores can also be used depending on the use-case and requirement of reducing false positives or false negatives.\n",
    "- Confusion matrix gives us a good overview at each step about the performance of the model in each section of the prediction. \n",
    "- AUC precision-recall curve : Area under the precision recall curve tells us the precision and recall performance irrespective of the threshold put on the predicted probability (soft predictions) to convert it into 1 & 0 (hard predictions).\n",
    "- Below I have tracked multiple metrics to make a comparision."
   ]
  },
  {
   "cell_type": "code",
   "execution_count": 249,
   "metadata": {},
   "outputs": [],
   "source": [
    "def score_res(true_res, pred_res, pred_prob=-1):\n",
    "    if type(pred_prob) != int:\n",
    "        lloss = log_loss(true_res, pred_prob)\n",
    "        auc = average_precision_score(true_res, pred_prob[:,1])\n",
    "        print ('Log Loss : {}'.format(lloss))\n",
    "        print ('AUC precision-recall curve : {}'.format(auc))\n",
    "    accuracy = accuracy_score(true_res, pred_res)\n",
    "    f1 = f1_score(true_res, pred_res)\n",
    "    f2 = fbeta_score(true_res, pred_res, 2)\n",
    "    print ('F1 Score: {}'.format(f1))\n",
    "    print ('F2 Score: {}'.format(f2))\n",
    "    print ('Accuracy : {}'.format(accuracy))\n",
    "    print ('\\n Confusion Matrix : \\n', confusion_matrix(true_res, pred_res))"
   ]
  },
  {
   "cell_type": "markdown",
   "metadata": {},
   "source": [
    "### Interactive confusion matrix using plotly"
   ]
  },
  {
   "cell_type": "markdown",
   "metadata": {},
   "source": [
    "- I am also using a interactive confusion matrix from plotly to make the inference easier and quicker"
   ]
  },
  {
   "cell_type": "code",
   "execution_count": 250,
   "metadata": {
    "collapsed": true
   },
   "outputs": [],
   "source": [
    "import plotly\n",
    "import plotly.graph_objs as go\n",
    "import plotly.figure_factory as ff\n",
    "from plotly.offline import init_notebook_mode, iplot\n",
    "from IPython.display import display, HTML\n",
    "import plotly.graph_objs as go"
   ]
  },
  {
   "cell_type": "code",
   "execution_count": 251,
   "metadata": {},
   "outputs": [],
   "source": [
    "def int_conf_mat(x, y):\n",
    "    init_notebook_mode(connected=True)\n",
    "\n",
    "    trace1 = {\n",
    "      \"x\": np.unique(y), \n",
    "      \"y\": np.unique(y), \n",
    "      \"z\": confusion_matrix(x, y), \n",
    "      \"colorscale\": \"Jet\", \n",
    "      \"type\": \"heatmap\"\n",
    "    }\n",
    "    data_plot = [trace1]\n",
    "    layout = {\n",
    "      \"width\": 500,\n",
    "      \"height\": 500,\n",
    "      \"barmode\": \"overlay\", \n",
    "      \"title\": \"Confusion Matrix\", \n",
    "      \"xaxis\": {\n",
    "        \"title\": \"Predicted value\", \n",
    "        \"titlefont\": {\n",
    "          \"color\": \"#7f7f7f\", \n",
    "          \"family\": \"Courier New, monospace\", \n",
    "          \"size\": 18\n",
    "        }\n",
    "      }, \n",
    "      \"yaxis\": {\n",
    "        \"title\": \"True Value\", \n",
    "        \"titlefont\": {\n",
    "          \"color\": \"#7f7f7f\", \n",
    "          \"family\": \"Courier New, monospace\", \n",
    "          \"size\": 18\n",
    "        }\n",
    "      }\n",
    "    }\n",
    "    fig = go.Figure(data=data_plot, layout=layout)\n",
    "    plotly.offline.iplot(fig)"
   ]
  },
  {
   "cell_type": "markdown",
   "metadata": {},
   "source": [
    "### Model - Logistic regression"
   ]
  },
  {
   "cell_type": "code",
   "execution_count": 252,
   "metadata": {
    "scrolled": true
   },
   "outputs": [
    {
     "data": {
      "text/plain": [
       "LogisticRegression(C=1.0, class_weight=None, dual=False, fit_intercept=True,\n",
       "          intercept_scaling=1, max_iter=100, multi_class='ovr', n_jobs=1,\n",
       "          penalty='l2', random_state=None, solver='liblinear', tol=0.0001,\n",
       "          verbose=0, warm_start=False)"
      ]
     },
     "execution_count": 252,
     "metadata": {},
     "output_type": "execute_result"
    }
   ],
   "source": [
    "lr = LogisticRegression()\n",
    "lr.fit(x_train, y_train)"
   ]
  },
  {
   "cell_type": "code",
   "execution_count": 253,
   "metadata": {},
   "outputs": [
    {
     "name": "stdout",
     "output_type": "stream",
     "text": [
      "Log Loss : 0.26030486359573085\n",
      "AUC precision-recall curve : 0.4632397126300919\n",
      "F1 Score: 0.3708894878706199\n",
      "F2 Score: 0.296245263520496\n",
      "Accuracy : 0.9032017252820173\n",
      "\n",
      " Confusion Matrix : \n",
      " [[10545   194]\n",
      " [  973   344]]\n"
     ]
    }
   ],
   "source": [
    "predictions = lr.predict(x_train)\n",
    "prediction_probs = lr.predict_proba(x_train)\n",
    "score_res(y_train, predictions, prediction_probs)"
   ]
  },
  {
   "cell_type": "code",
   "execution_count": 254,
   "metadata": {},
   "outputs": [
    {
     "name": "stdout",
     "output_type": "stream",
     "text": [
      "Log Loss : 0.2633482226082324\n",
      "AUC precision-recall curve : 0.47628946206619804\n",
      "F1 Score: 0.34557235421166305\n",
      "F2 Score: 0.26972353337828725\n",
      "Accuracy : 0.8994691439946915\n",
      "\n",
      " Confusion Matrix : \n",
      " [[2631   43]\n",
      " [ 260   80]]\n"
     ]
    }
   ],
   "source": [
    "predictions = lr.predict(x_test)\n",
    "prediction_probs = lr.predict_proba(x_test)\n",
    "score_res(y_test, predictions, prediction_probs)"
   ]
  },
  {
   "cell_type": "code",
   "execution_count": 255,
   "metadata": {},
   "outputs": [
    {
     "data": {
      "text/html": [
       "<script>requirejs.config({paths: { 'plotly': ['https://cdn.plot.ly/plotly-latest.min']},});if(!window.Plotly) {{require(['plotly'],function(plotly) {window.Plotly=plotly;});}}</script>"
      ],
      "text/vnd.plotly.v1+html": [
       "<script>requirejs.config({paths: { 'plotly': ['https://cdn.plot.ly/plotly-latest.min']},});if(!window.Plotly) {{require(['plotly'],function(plotly) {window.Plotly=plotly;});}}</script>"
      ]
     },
     "metadata": {},
     "output_type": "display_data"
    },
    {
     "data": {
      "application/vnd.plotly.v1+json": {
       "data": [
        {
         "colorscale": "Jet",
         "type": "heatmap",
         "x": [
          0,
          1
         ],
         "y": [
          0,
          1
         ],
         "z": [
          [
           2631,
           43
          ],
          [
           260,
           80
          ]
         ]
        }
       ],
       "layout": {
        "barmode": "overlay",
        "height": 500,
        "title": "Confusion Matrix",
        "width": 500,
        "xaxis": {
         "title": "Predicted value",
         "titlefont": {
          "color": "#7f7f7f",
          "family": "Courier New, monospace",
          "size": 18
         }
        },
        "yaxis": {
         "title": "True Value",
         "titlefont": {
          "color": "#7f7f7f",
          "family": "Courier New, monospace",
          "size": 18
         }
        }
       }
      },
      "text/html": [
       "<div id=\"b3b311d8-39e2-459d-bc0e-63e7c009bcda\" style=\"height: 500px; width: 500px;\" class=\"plotly-graph-div\"></div><script type=\"text/javascript\">require([\"plotly\"], function(Plotly) { window.PLOTLYENV=window.PLOTLYENV || {};window.PLOTLYENV.BASE_URL=\"https://plot.ly\";Plotly.newPlot(\"b3b311d8-39e2-459d-bc0e-63e7c009bcda\", [{\"type\": \"heatmap\", \"x\": [0.0, 1.0], \"y\": [0.0, 1.0], \"z\": [[2631, 43], [260, 80]], \"colorscale\": \"Jet\"}], {\"width\": 500, \"height\": 500, \"barmode\": \"overlay\", \"title\": \"Confusion Matrix\", \"xaxis\": {\"title\": \"Predicted value\", \"titlefont\": {\"color\": \"#7f7f7f\", \"family\": \"Courier New, monospace\", \"size\": 18}}, \"yaxis\": {\"title\": \"True Value\", \"titlefont\": {\"color\": \"#7f7f7f\", \"family\": \"Courier New, monospace\", \"size\": 18}}}, {\"showLink\": true, \"linkText\": \"Export to plot.ly\"})});</script>"
      ],
      "text/vnd.plotly.v1+html": [
       "<div id=\"b3b311d8-39e2-459d-bc0e-63e7c009bcda\" style=\"height: 500px; width: 500px;\" class=\"plotly-graph-div\"></div><script type=\"text/javascript\">require([\"plotly\"], function(Plotly) { window.PLOTLYENV=window.PLOTLYENV || {};window.PLOTLYENV.BASE_URL=\"https://plot.ly\";Plotly.newPlot(\"b3b311d8-39e2-459d-bc0e-63e7c009bcda\", [{\"type\": \"heatmap\", \"x\": [0.0, 1.0], \"y\": [0.0, 1.0], \"z\": [[2631, 43], [260, 80]], \"colorscale\": \"Jet\"}], {\"width\": 500, \"height\": 500, \"barmode\": \"overlay\", \"title\": \"Confusion Matrix\", \"xaxis\": {\"title\": \"Predicted value\", \"titlefont\": {\"color\": \"#7f7f7f\", \"family\": \"Courier New, monospace\", \"size\": 18}}, \"yaxis\": {\"title\": \"True Value\", \"titlefont\": {\"color\": \"#7f7f7f\", \"family\": \"Courier New, monospace\", \"size\": 18}}}, {\"showLink\": true, \"linkText\": \"Export to plot.ly\"})});</script>"
      ]
     },
     "metadata": {},
     "output_type": "display_data"
    }
   ],
   "source": [
    "int_conf_mat(y_test, predictions)"
   ]
  },
  {
   "cell_type": "markdown",
   "metadata": {},
   "source": [
    "## Handling class imbalance"
   ]
  },
  {
   "cell_type": "markdown",
   "metadata": {},
   "source": [
    "- We will tune hyperparameters and try other models after balancing the classes as we see that it is affecting the performance immensely and would be useless to try other techniques with imbalanced dataset"
   ]
  },
  {
   "cell_type": "code",
   "execution_count": 256,
   "metadata": {
    "collapsed": true
   },
   "outputs": [],
   "source": [
    "x_train_org, x_test_org = train_test_split(data.iloc[:,1:], test_size=0.2, random_state=3)"
   ]
  },
  {
   "cell_type": "code",
   "execution_count": 257,
   "metadata": {},
   "outputs": [],
   "source": [
    "count_class_0, count_class_1 = x_train_org.Target.value_counts()\n",
    "\n",
    "x_train_class_0 = x_train_org[x_train_org['Target'] == 0]\n",
    "x_train_class_1 = x_train_org[x_train_org['Target'] == 1]"
   ]
  },
  {
   "cell_type": "markdown",
   "metadata": {
    "heading_collapsed": true
   },
   "source": [
    "### Random Under-sampling"
   ]
  },
  {
   "cell_type": "code",
   "execution_count": 258,
   "metadata": {
    "hidden": true
   },
   "outputs": [
    {
     "name": "stdout",
     "output_type": "stream",
     "text": [
      "Random under-sampling:\n",
      " 1.0    1317\n",
      "0.0    1317\n",
      "Name: Target, dtype: int64\n"
     ]
    },
    {
     "data": {
      "image/png": "[encoded data removed]",
      "text/plain": [
       "<Figure size 432x288 with 1 Axes>"
      ]
     },
     "metadata": {},
     "output_type": "display_data"
    }
   ],
   "source": [
    "x_train_class_0_under = x_train_class_0.sample(count_class_1)\n",
    "x_train_train_under = pd.concat([x_train_class_0_under, x_train_class_1], axis=0)\n",
    "\n",
    "print('Random under-sampling:\\n', x_train_train_under.Target.value_counts())\n",
    "\n",
    "x_train_train_under.Target.value_counts().plot(kind='bar', title='Count (Target)');"
   ]
  },
  {
   "cell_type": "code",
   "execution_count": 259,
   "metadata": {
    "hidden": true,
    "scrolled": true
   },
   "outputs": [],
   "source": [
    "x_train, y_train, x_test, y_test = x_train_train_under.iloc[:,:19], x_train_train_under.Target, x_test_org.iloc[:,:19], x_test_org.Target"
   ]
  },
  {
   "cell_type": "code",
   "execution_count": 260,
   "metadata": {
    "hidden": true
   },
   "outputs": [
    {
     "data": {
      "text/plain": [
       "LogisticRegression(C=1.0, class_weight=None, dual=False, fit_intercept=True,\n",
       "          intercept_scaling=1, max_iter=100, multi_class='ovr', n_jobs=1,\n",
       "          penalty='l2', random_state=None, solver='liblinear', tol=0.0001,\n",
       "          verbose=0, warm_start=False)"
      ]
     },
     "execution_count": 260,
     "metadata": {},
     "output_type": "execute_result"
    }
   ],
   "source": [
    "lr = LogisticRegression()\n",
    "lr.fit(x_train, y_train)"
   ]
  },
  {
   "cell_type": "code",
   "execution_count": 261,
   "metadata": {
    "hidden": true
   },
   "outputs": [
    {
     "name": "stdout",
     "output_type": "stream",
     "text": [
      "Log Loss : 0.4999953376199675\n",
      "AUC precision-recall curve : 0.8349941319759391\n",
      "F1 Score: 0.753983676642052\n",
      "F2 Score: 0.7434089515634579\n",
      "Accuracy : 0.7596810933940774\n",
      "\n",
      " Confusion Matrix : \n",
      " [[1031  286]\n",
      " [ 347  970]]\n"
     ]
    }
   ],
   "source": [
    "predictions = lr.predict(x_train)\n",
    "prediction_probs = lr.predict_proba(x_train)\n",
    "score_res(y_train, predictions, prediction_probs)"
   ]
  },
  {
   "cell_type": "code",
   "execution_count": 262,
   "metadata": {
    "hidden": true
   },
   "outputs": [
    {
     "name": "stdout",
     "output_type": "stream",
     "text": [
      "Log Loss : 0.49596129846869846\n",
      "AUC precision-recall curve : 0.4570249842356252\n",
      "F1 Score: 0.4374453193350832\n",
      "F2 Score: 0.5779010633379565\n",
      "Accuracy : 0.7866622428666225\n",
      "\n",
      " Confusion Matrix : \n",
      " [[2121  553]\n",
      " [  90  250]]\n"
     ]
    }
   ],
   "source": [
    "predictions = lr.predict(x_test)\n",
    "prediction_probs = lr.predict_proba(x_test)\n",
    "score_res(y_test, predictions, prediction_probs)"
   ]
  },
  {
   "cell_type": "code",
   "execution_count": 263,
   "metadata": {
    "hidden": true
   },
   "outputs": [
    {
     "data": {
      "text/html": [
       "<script>requirejs.config({paths: { 'plotly': ['https://cdn.plot.ly/plotly-latest.min']},});if(!window.Plotly) {{require(['plotly'],function(plotly) {window.Plotly=plotly;});}}</script>"
      ],
      "text/vnd.plotly.v1+html": [
       "<script>requirejs.config({paths: { 'plotly': ['https://cdn.plot.ly/plotly-latest.min']},});if(!window.Plotly) {{require(['plotly'],function(plotly) {window.Plotly=plotly;});}}</script>"
      ]
     },
     "metadata": {},
     "output_type": "display_data"
    },
    {
     "data": {
      "application/vnd.plotly.v1+json": {
       "data": [
        {
         "colorscale": "Jet",
         "type": "heatmap",
         "x": [
          0,
          1
         ],
         "y": [
          0,
          1
         ],
         "z": [
          [
           2121,
           553
          ],
          [
           90,
           250
          ]
         ]
        }
       ],
       "layout": {
        "barmode": "overlay",
        "height": 500,
        "title": "Confusion Matrix",
        "width": 500,
        "xaxis": {
         "title": "Predicted value",
         "titlefont": {
          "color": "#7f7f7f",
          "family": "Courier New, monospace",
          "size": 18
         }
        },
        "yaxis": {
         "title": "True Value",
         "titlefont": {
          "color": "#7f7f7f",
          "family": "Courier New, monospace",
          "size": 18
         }
        }
       }
      },
      "text/html": [
       "<div id=\"4c489cb2-cd99-4264-ad2d-897a1c429bdf\" style=\"height: 500px; width: 500px;\" class=\"plotly-graph-div\"></div><script type=\"text/javascript\">require([\"plotly\"], function(Plotly) { window.PLOTLYENV=window.PLOTLYENV || {};window.PLOTLYENV.BASE_URL=\"https://plot.ly\";Plotly.newPlot(\"4c489cb2-cd99-4264-ad2d-897a1c429bdf\", [{\"type\": \"heatmap\", \"x\": [0.0, 1.0], \"y\": [0.0, 1.0], \"z\": [[2121, 553], [90, 250]], \"colorscale\": \"Jet\"}], {\"width\": 500, \"height\": 500, \"barmode\": \"overlay\", \"title\": \"Confusion Matrix\", \"xaxis\": {\"title\": \"Predicted value\", \"titlefont\": {\"color\": \"#7f7f7f\", \"family\": \"Courier New, monospace\", \"size\": 18}}, \"yaxis\": {\"title\": \"True Value\", \"titlefont\": {\"color\": \"#7f7f7f\", \"family\": \"Courier New, monospace\", \"size\": 18}}}, {\"showLink\": true, \"linkText\": \"Export to plot.ly\"})});</script>"
      ],
      "text/vnd.plotly.v1+html": [
       "<div id=\"4c489cb2-cd99-4264-ad2d-897a1c429bdf\" style=\"height: 500px; width: 500px;\" class=\"plotly-graph-div\"></div><script type=\"text/javascript\">require([\"plotly\"], function(Plotly) { window.PLOTLYENV=window.PLOTLYENV || {};window.PLOTLYENV.BASE_URL=\"https://plot.ly\";Plotly.newPlot(\"4c489cb2-cd99-4264-ad2d-897a1c429bdf\", [{\"type\": \"heatmap\", \"x\": [0.0, 1.0], \"y\": [0.0, 1.0], \"z\": [[2121, 553], [90, 250]], \"colorscale\": \"Jet\"}], {\"width\": 500, \"height\": 500, \"barmode\": \"overlay\", \"title\": \"Confusion Matrix\", \"xaxis\": {\"title\": \"Predicted value\", \"titlefont\": {\"color\": \"#7f7f7f\", \"family\": \"Courier New, monospace\", \"size\": 18}}, \"yaxis\": {\"title\": \"True Value\", \"titlefont\": {\"color\": \"#7f7f7f\", \"family\": \"Courier New, monospace\", \"size\": 18}}}, {\"showLink\": true, \"linkText\": \"Export to plot.ly\"})});</script>"
      ]
     },
     "metadata": {},
     "output_type": "display_data"
    }
   ],
   "source": [
    "int_conf_mat(y_test, predictions)"
   ]
  },
  {
   "cell_type": "markdown",
   "metadata": {
    "heading_collapsed": true
   },
   "source": [
    "### Random Over-sampling"
   ]
  },
  {
   "cell_type": "code",
   "execution_count": 264,
   "metadata": {
    "hidden": true
   },
   "outputs": [
    {
     "name": "stdout",
     "output_type": "stream",
     "text": [
      "Random over-sampling:\n",
      " 1.0    10739\n",
      "0.0    10739\n",
      "Name: Target, dtype: int64\n"
     ]
    },
    {
     "data": {
      "image/png": "[encoded data removed]",
      "text/plain": [
       "<Figure size 432x288 with 1 Axes>"
      ]
     },
     "metadata": {},
     "output_type": "display_data"
    }
   ],
   "source": [
    "x_train_class_1_over = x_train_class_1.sample(count_class_0, replace=True)\n",
    "x_train_train_over = pd.concat([x_train_class_0, x_train_class_1_over], axis=0)\n",
    "\n",
    "print('Random over-sampling:\\n', x_train_train_over.Target.value_counts())\n",
    "\n",
    "x_train_train_over.Target.value_counts().plot(kind='bar', title='Count (Target)');"
   ]
  },
  {
   "cell_type": "code",
   "execution_count": 265,
   "metadata": {
    "hidden": true
   },
   "outputs": [],
   "source": [
    "x_train, y_train, x_test, y_test = x_train_train_over.iloc[:,:19], x_train_train_over.Target, x_test_org.iloc[:,:19], x_test_org.Target"
   ]
  },
  {
   "cell_type": "code",
   "execution_count": 266,
   "metadata": {
    "hidden": true
   },
   "outputs": [
    {
     "data": {
      "text/plain": [
       "LogisticRegression(C=1.0, class_weight=None, dual=False, fit_intercept=True,\n",
       "          intercept_scaling=1, max_iter=100, multi_class='ovr', n_jobs=1,\n",
       "          penalty='l2', random_state=None, solver='liblinear', tol=0.0001,\n",
       "          verbose=0, warm_start=False)"
      ]
     },
     "execution_count": 266,
     "metadata": {},
     "output_type": "execute_result"
    }
   ],
   "source": [
    "lr = LogisticRegression()\n",
    "lr.fit(x_train, y_train)"
   ]
  },
  {
   "cell_type": "code",
   "execution_count": 267,
   "metadata": {
    "hidden": true
   },
   "outputs": [
    {
     "name": "stdout",
     "output_type": "stream",
     "text": [
      "Log Loss : 0.4963574338666966\n",
      "AUC precision-recall curve : 0.8365907606065066\n",
      "F1 Score: 0.7573065902578796\n",
      "F2 Score: 0.7458095829335741\n",
      "Accuracy : 0.7633857901108111\n",
      "\n",
      " Confusion Matrix : \n",
      " [[8467 2272]\n",
      " [2810 7929]]\n"
     ]
    }
   ],
   "source": [
    "predictions = lr.predict(x_train)\n",
    "prediction_probs = lr.predict_proba(x_train)\n",
    "score_res(y_train, predictions, prediction_probs)"
   ]
  },
  {
   "cell_type": "code",
   "execution_count": 268,
   "metadata": {
    "hidden": true
   },
   "outputs": [
    {
     "name": "stdout",
     "output_type": "stream",
     "text": [
      "Log Loss : 0.487620177997697\n",
      "AUC precision-recall curve : 0.47380196601947916\n",
      "F1 Score: 0.44000000000000006\n",
      "F2 Score: 0.5829493087557603\n",
      "Accuracy : 0.7863304578633046\n",
      "\n",
      " Confusion Matrix : \n",
      " [[2117  557]\n",
      " [  87  253]]\n"
     ]
    }
   ],
   "source": [
    "predictions = lr.predict(x_test)\n",
    "prediction_probs = lr.predict_proba(x_test)\n",
    "score_res(y_test, predictions, prediction_probs)"
   ]
  },
  {
   "cell_type": "code",
   "execution_count": 269,
   "metadata": {
    "hidden": true
   },
   "outputs": [
    {
     "data": {
      "text/html": [
       "<script>requirejs.config({paths: { 'plotly': ['https://cdn.plot.ly/plotly-latest.min']},});if(!window.Plotly) {{require(['plotly'],function(plotly) {window.Plotly=plotly;});}}</script>"
      ],
      "text/vnd.plotly.v1+html": [
       "<script>requirejs.config({paths: { 'plotly': ['https://cdn.plot.ly/plotly-latest.min']},});if(!window.Plotly) {{require(['plotly'],function(plotly) {window.Plotly=plotly;});}}</script>"
      ]
     },
     "metadata": {},
     "output_type": "display_data"
    },
    {
     "data": {
      "application/vnd.plotly.v1+json": {
       "data": [
        {
         "colorscale": "Jet",
         "type": "heatmap",
         "x": [
          0,
          1
         ],
         "y": [
          0,
          1
         ],
         "z": [
          [
           2117,
           557
          ],
          [
           87,
           253
          ]
         ]
        }
       ],
       "layout": {
        "barmode": "overlay",
        "height": 500,
        "title": "Confusion Matrix",
        "width": 500,
        "xaxis": {
         "title": "Predicted value",
         "titlefont": {
          "color": "#7f7f7f",
          "family": "Courier New, monospace",
          "size": 18
         }
        },
        "yaxis": {
         "title": "True Value",
         "titlefont": {
          "color": "#7f7f7f",
          "family": "Courier New, monospace",
          "size": 18
         }
        }
       }
      },
      "text/html": [
       "<div id=\"070ad0fc-4d7b-4b80-82e0-27f7f86b221f\" style=\"height: 500px; width: 500px;\" class=\"plotly-graph-div\"></div><script type=\"text/javascript\">require([\"plotly\"], function(Plotly) { window.PLOTLYENV=window.PLOTLYENV || {};window.PLOTLYENV.BASE_URL=\"https://plot.ly\";Plotly.newPlot(\"070ad0fc-4d7b-4b80-82e0-27f7f86b221f\", [{\"type\": \"heatmap\", \"x\": [0.0, 1.0], \"y\": [0.0, 1.0], \"z\": [[2117, 557], [87, 253]], \"colorscale\": \"Jet\"}], {\"width\": 500, \"height\": 500, \"barmode\": \"overlay\", \"title\": \"Confusion Matrix\", \"xaxis\": {\"title\": \"Predicted value\", \"titlefont\": {\"color\": \"#7f7f7f\", \"family\": \"Courier New, monospace\", \"size\": 18}}, \"yaxis\": {\"title\": \"True Value\", \"titlefont\": {\"color\": \"#7f7f7f\", \"family\": \"Courier New, monospace\", \"size\": 18}}}, {\"showLink\": true, \"linkText\": \"Export to plot.ly\"})});</script>"
      ],
      "text/vnd.plotly.v1+html": [
       "<div id=\"070ad0fc-4d7b-4b80-82e0-27f7f86b221f\" style=\"height: 500px; width: 500px;\" class=\"plotly-graph-div\"></div><script type=\"text/javascript\">require([\"plotly\"], function(Plotly) { window.PLOTLYENV=window.PLOTLYENV || {};window.PLOTLYENV.BASE_URL=\"https://plot.ly\";Plotly.newPlot(\"070ad0fc-4d7b-4b80-82e0-27f7f86b221f\", [{\"type\": \"heatmap\", \"x\": [0.0, 1.0], \"y\": [0.0, 1.0], \"z\": [[2117, 557], [87, 253]], \"colorscale\": \"Jet\"}], {\"width\": 500, \"height\": 500, \"barmode\": \"overlay\", \"title\": \"Confusion Matrix\", \"xaxis\": {\"title\": \"Predicted value\", \"titlefont\": {\"color\": \"#7f7f7f\", \"family\": \"Courier New, monospace\", \"size\": 18}}, \"yaxis\": {\"title\": \"True Value\", \"titlefont\": {\"color\": \"#7f7f7f\", \"family\": \"Courier New, monospace\", \"size\": 18}}}, {\"showLink\": true, \"linkText\": \"Export to plot.ly\"})});</script>"
      ]
     },
     "metadata": {},
     "output_type": "display_data"
    }
   ],
   "source": [
    "int_conf_mat(y_test, predictions)"
   ]
  },
  {
   "cell_type": "markdown",
   "metadata": {
    "heading_collapsed": true
   },
   "source": [
    "### SMOTE + Tomek links (Synthetic Minority oversampling followed by Tomek Links)"
   ]
  },
  {
   "cell_type": "code",
   "execution_count": 270,
   "metadata": {
    "hidden": true
   },
   "outputs": [
    {
     "data": {
      "image/png": "[encoded data removed]",
      "text/plain": [
       "<Figure size 432x288 with 1 Axes>"
      ]
     },
     "metadata": {},
     "output_type": "display_data"
    }
   ],
   "source": [
    "smt = SMOTETomek(ratio='auto')\n",
    "X_smt, y_smt = smt.fit_sample(x_train_org.iloc[:,:19], x_train_org.Target)\n",
    "colors = ['#1F77B4', '#FF7F0E']\n",
    "markers = ['o', 's']\n",
    "for l, c, m in zip(np.unique(y_smt), colors, markers):\n",
    "        plt.scatter(\n",
    "            X_smt[y_smt==l, 0],\n",
    "            X_smt[y_smt==l, 1],\n",
    "            c=c, label=l, marker=m\n",
    "        )"
   ]
  },
  {
   "cell_type": "code",
   "execution_count": 271,
   "metadata": {
    "hidden": true
   },
   "outputs": [
    {
     "data": {
      "text/plain": [
       "((21370, 19), (21370,))"
      ]
     },
     "execution_count": 271,
     "metadata": {},
     "output_type": "execute_result"
    }
   ],
   "source": [
    "X_smt.shape, y_smt.shape"
   ]
  },
  {
   "cell_type": "code",
   "execution_count": 272,
   "metadata": {
    "collapsed": true,
    "hidden": true
   },
   "outputs": [],
   "source": [
    "x_train, y_train, x_test, y_test = X_smt, y_smt, x_test_org.iloc[:,:19], x_test_org.Target"
   ]
  },
  {
   "cell_type": "code",
   "execution_count": 273,
   "metadata": {
    "hidden": true
   },
   "outputs": [
    {
     "data": {
      "text/plain": [
       "LogisticRegression(C=1.0, class_weight=None, dual=False, fit_intercept=True,\n",
       "          intercept_scaling=1, max_iter=100, multi_class='ovr', n_jobs=1,\n",
       "          penalty='l2', random_state=None, solver='liblinear', tol=0.0001,\n",
       "          verbose=0, warm_start=False)"
      ]
     },
     "execution_count": 273,
     "metadata": {},
     "output_type": "execute_result"
    }
   ],
   "source": [
    "lr = LogisticRegression()\n",
    "lr.fit(x_train, y_train)"
   ]
  },
  {
   "cell_type": "code",
   "execution_count": 274,
   "metadata": {
    "hidden": true
   },
   "outputs": [
    {
     "name": "stdout",
     "output_type": "stream",
     "text": [
      "Log Loss : 0.4764636881675404\n",
      "AUC precision-recall curve : 0.8417128347055829\n",
      "F1 Score: 0.7717225609756099\n",
      "F2 Score: 0.7634739005033273\n",
      "Accuracy : 0.7757604117922321\n",
      "\n",
      " Confusion Matrix : \n",
      " [[8478 2207]\n",
      " [2585 8100]]\n"
     ]
    }
   ],
   "source": [
    "predictions = lr.predict(x_train)\n",
    "prediction_probs = lr.predict_proba(x_train)\n",
    "score_res(y_train, predictions, prediction_probs)"
   ]
  },
  {
   "cell_type": "code",
   "execution_count": 275,
   "metadata": {
    "hidden": true
   },
   "outputs": [
    {
     "name": "stdout",
     "output_type": "stream",
     "text": [
      "Log Loss : 0.4811466989176858\n",
      "AUC precision-recall curve : 0.47361101766682023\n",
      "F1 Score: 0.43932683790965454\n",
      "F2 Score: 0.577012563983248\n",
      "Accuracy : 0.789980092899801\n",
      "\n",
      " Confusion Matrix : \n",
      " [[2133  541]\n",
      " [  92  248]]\n"
     ]
    }
   ],
   "source": [
    "predictions = lr.predict(x_test)\n",
    "prediction_probs = lr.predict_proba(x_test)\n",
    "score_res(y_test, predictions, prediction_probs)"
   ]
  },
  {
   "cell_type": "code",
   "execution_count": 276,
   "metadata": {
    "hidden": true
   },
   "outputs": [
    {
     "data": {
      "text/html": [
       "<script>requirejs.config({paths: { 'plotly': ['https://cdn.plot.ly/plotly-latest.min']},});if(!window.Plotly) {{require(['plotly'],function(plotly) {window.Plotly=plotly;});}}</script>"
      ],
      "text/vnd.plotly.v1+html": [
       "<script>requirejs.config({paths: { 'plotly': ['https://cdn.plot.ly/plotly-latest.min']},});if(!window.Plotly) {{require(['plotly'],function(plotly) {window.Plotly=plotly;});}}</script>"
      ]
     },
     "metadata": {},
     "output_type": "display_data"
    },
    {
     "data": {
      "application/vnd.plotly.v1+json": {
       "data": [
        {
         "colorscale": "Jet",
         "type": "heatmap",
         "x": [
          0,
          1
         ],
         "y": [
          0,
          1
         ],
         "z": [
          [
           2133,
           541
          ],
          [
           92,
           248
          ]
         ]
        }
       ],
       "layout": {
        "barmode": "overlay",
        "height": 500,
        "title": "Confusion Matrix",
        "width": 500,
        "xaxis": {
         "title": "Predicted value",
         "titlefont": {
          "color": "#7f7f7f",
          "family": "Courier New, monospace",
          "size": 18
         }
        },
        "yaxis": {
         "title": "True Value",
         "titlefont": {
          "color": "#7f7f7f",
          "family": "Courier New, monospace",
          "size": 18
         }
        }
       }
      },
      "text/html": [
       "<div id=\"b62a364d-52ec-41c6-a793-c6a261f13943\" style=\"height: 500px; width: 500px;\" class=\"plotly-graph-div\"></div><script type=\"text/javascript\">require([\"plotly\"], function(Plotly) { window.PLOTLYENV=window.PLOTLYENV || {};window.PLOTLYENV.BASE_URL=\"https://plot.ly\";Plotly.newPlot(\"b62a364d-52ec-41c6-a793-c6a261f13943\", [{\"type\": \"heatmap\", \"x\": [0.0, 1.0], \"y\": [0.0, 1.0], \"z\": [[2133, 541], [92, 248]], \"colorscale\": \"Jet\"}], {\"width\": 500, \"height\": 500, \"barmode\": \"overlay\", \"title\": \"Confusion Matrix\", \"xaxis\": {\"title\": \"Predicted value\", \"titlefont\": {\"color\": \"#7f7f7f\", \"family\": \"Courier New, monospace\", \"size\": 18}}, \"yaxis\": {\"title\": \"True Value\", \"titlefont\": {\"color\": \"#7f7f7f\", \"family\": \"Courier New, monospace\", \"size\": 18}}}, {\"showLink\": true, \"linkText\": \"Export to plot.ly\"})});</script>"
      ],
      "text/vnd.plotly.v1+html": [
       "<div id=\"b62a364d-52ec-41c6-a793-c6a261f13943\" style=\"height: 500px; width: 500px;\" class=\"plotly-graph-div\"></div><script type=\"text/javascript\">require([\"plotly\"], function(Plotly) { window.PLOTLYENV=window.PLOTLYENV || {};window.PLOTLYENV.BASE_URL=\"https://plot.ly\";Plotly.newPlot(\"b62a364d-52ec-41c6-a793-c6a261f13943\", [{\"type\": \"heatmap\", \"x\": [0.0, 1.0], \"y\": [0.0, 1.0], \"z\": [[2133, 541], [92, 248]], \"colorscale\": \"Jet\"}], {\"width\": 500, \"height\": 500, \"barmode\": \"overlay\", \"title\": \"Confusion Matrix\", \"xaxis\": {\"title\": \"Predicted value\", \"titlefont\": {\"color\": \"#7f7f7f\", \"family\": \"Courier New, monospace\", \"size\": 18}}, \"yaxis\": {\"title\": \"True Value\", \"titlefont\": {\"color\": \"#7f7f7f\", \"family\": \"Courier New, monospace\", \"size\": 18}}}, {\"showLink\": true, \"linkText\": \"Export to plot.ly\"})});</script>"
      ]
     },
     "metadata": {},
     "output_type": "display_data"
    }
   ],
   "source": [
    "int_conf_mat(y_test, predictions)"
   ]
  },
  {
   "cell_type": "markdown",
   "metadata": {
    "hidden": true
   },
   "source": [
    "- We can see best results, out of the three sampling techniques, in SMOTE + Tomek links technique. We'll tune the hyperparameters for this sampled dataset and try other model which can possibly perform better."
   ]
  },
  {
   "cell_type": "markdown",
   "metadata": {
    "heading_collapsed": true
   },
   "source": [
    "### Hyperparameter tuning for Logistic Regression"
   ]
  },
  {
   "cell_type": "code",
   "execution_count": 277,
   "metadata": {
    "hidden": true
   },
   "outputs": [
    {
     "name": "stdout",
     "output_type": "stream",
     "text": [
      "Best Hyperparameters -\n",
      "Best Penalty: l2\n",
      "Best C: 0.01\n"
     ]
    }
   ],
   "source": [
    "lr = LogisticRegression()\n",
    "\n",
    "print('Best Hyperparameters -')\n",
    "\n",
    "# regularization penalty options\n",
    "penalty = ['l1', 'l2']\n",
    "\n",
    "# regularization hyperparameter options\n",
    "C = [0.01, 0.3, 0.7, 1.0, 4, 10]\n",
    "\n",
    "# hyperparameter dictionary\n",
    "hyperparameters = dict(C=C, penalty=penalty, n_jobs=[-1])\n",
    "\n",
    "# grid search using 5-fold cross validation\n",
    "clf = GridSearchCV(lr, hyperparameters, cv=5, verbose=0, scoring='f1')\n",
    "\n",
    "# Fit grid search\n",
    "best_model = clf.fit(x_train, y_train)\n",
    "\n",
    "# View best hyperparameters\n",
    "print('Best Penalty:', best_model.best_estimator_.get_params()['penalty'])\n",
    "print('Best C:', best_model.best_estimator_.get_params()['C'])"
   ]
  },
  {
   "cell_type": "code",
   "execution_count": 278,
   "metadata": {
    "hidden": true
   },
   "outputs": [
    {
     "name": "stdout",
     "output_type": "stream",
     "text": [
      "Log Loss : 0.4886806421967978\n",
      "AUC precision-recall curve : 0.46795549405748005\n",
      "F1 Score: 0.4413793103448275\n",
      "F2 Score: 0.5871559633027522\n",
      "Accuracy : 0.7850033178500332\n",
      "\n",
      " Confusion Matrix : \n",
      " [[2110  564]\n",
      " [  84  256]]\n"
     ]
    }
   ],
   "source": [
    "# Prediction using best model\n",
    "predictions = best_model.predict(x_test)\n",
    "prediction_probs = best_model.predict_proba(x_test)\n",
    "score_res(y_test, predictions, prediction_probs)"
   ]
  },
  {
   "cell_type": "markdown",
   "metadata": {
    "heading_collapsed": true
   },
   "source": [
    "### Model - Random Forest classifier with Hyperparemeter tuning"
   ]
  },
  {
   "cell_type": "code",
   "execution_count": 279,
   "metadata": {
    "hidden": true
   },
   "outputs": [
    {
     "data": {
      "text/plain": [
       "RandomForestClassifier(bootstrap=True, class_weight=None, criterion='gini',\n",
       "            max_depth=None, max_features='auto', max_leaf_nodes=None,\n",
       "            min_impurity_decrease=0.0, min_impurity_split=None,\n",
       "            min_samples_leaf=1, min_samples_split=2,\n",
       "            min_weight_fraction_leaf=0.0, n_estimators=10, n_jobs=1,\n",
       "            oob_score=False, random_state=None, verbose=0,\n",
       "            warm_start=False)"
      ]
     },
     "execution_count": 279,
     "metadata": {},
     "output_type": "execute_result"
    }
   ],
   "source": [
    "rfc = RandomForestClassifier()\n",
    "rfc.fit(x_train, y_train)"
   ]
  },
  {
   "cell_type": "code",
   "execution_count": 280,
   "metadata": {
    "hidden": true
   },
   "outputs": [
    {
     "name": "stdout",
     "output_type": "stream",
     "text": [
      "Log Loss : 0.8056224468290331\n",
      "AUC precision-recall curve : 0.38703997607943197\n",
      "F1 Score: 0.4127579737335835\n",
      "F2 Score: 0.3541532517707663\n",
      "Accuracy : 0.8961512939615129\n",
      "\n",
      " Confusion Matrix : \n",
      " [[2591   83]\n",
      " [ 230  110]]\n"
     ]
    }
   ],
   "source": [
    "predictions = rfc.predict(x_test)\n",
    "prediction_probs = rfc.predict_proba(x_test)\n",
    "score_res(y_test, predictions, prediction_probs)"
   ]
  },
  {
   "cell_type": "code",
   "execution_count": 281,
   "metadata": {
    "hidden": true,
    "scrolled": true
   },
   "outputs": [
    {
     "name": "stdout",
     "output_type": "stream",
     "text": [
      "Fitting 3 folds for each of 64 candidates, totalling 192 fits\n"
     ]
    },
    {
     "name": "stderr",
     "output_type": "stream",
     "text": [
      "[Parallel(n_jobs=-1)]: Done  42 tasks      | elapsed:   36.9s\n",
      "[Parallel(n_jobs=-1)]: Done 192 out of 192 | elapsed:  3.2min finished\n"
     ]
    },
    {
     "data": {
      "text/plain": [
       "GridSearchCV(cv=3, error_score='raise',\n",
       "       estimator=RandomForestClassifier(bootstrap=True, class_weight=None, criterion='gini',\n",
       "            max_depth=None, max_features='auto', max_leaf_nodes=None,\n",
       "            min_impurity_decrease=0.0, min_impurity_split=None,\n",
       "            min_samples_leaf=1, min_samples_split=2,\n",
       "            min_weight_fraction_leaf=0.0, n_estimators=10, n_jobs=1,\n",
       "            oob_score=False, random_state=None, verbose=0,\n",
       "            warm_start=False),\n",
       "       fit_params=None, iid=True, n_jobs=-1,\n",
       "       param_grid={'bootstrap': [True], 'max_depth': [80, 100], 'max_features': [2, 3], 'min_samples_leaf': [3, 5], 'min_samples_split': [4, 10], 'n_estimators': [50, 100, 300, 500]},\n",
       "       pre_dispatch='2*n_jobs', refit=True, return_train_score='warn',\n",
       "       scoring='f1', verbose=1)"
      ]
     },
     "execution_count": 281,
     "metadata": {},
     "output_type": "execute_result"
    }
   ],
   "source": [
    "## Hyperparameter Tuning\n",
    "\n",
    "# Create the parameter grid based on the results of random search \n",
    "param_grid = {\n",
    "    'bootstrap': [True],\n",
    "    'max_depth': [80, 100],\n",
    "    'max_features': [2, 3],\n",
    "    'min_samples_leaf': [3, 5],\n",
    "    'min_samples_split': [4, 10],\n",
    "    'n_estimators': [50, 100, 300, 500]\n",
    "}\n",
    "# Create a based model\n",
    "rfc = RandomForestClassifier()\n",
    "\n",
    "# Instantiate the grid search model\n",
    "grid_search = GridSearchCV(estimator = rfc, param_grid = param_grid, \n",
    "                          cv = 3, n_jobs = -1, verbose = 1, scoring='f1')\n",
    "\n",
    "# Fit the grid search to the data\n",
    "grid_search.fit(x_train, y_train)"
   ]
  },
  {
   "cell_type": "code",
   "execution_count": 282,
   "metadata": {
    "hidden": true
   },
   "outputs": [
    {
     "data": {
      "text/plain": [
       "{'bootstrap': True,\n",
       " 'max_depth': 100,\n",
       " 'max_features': 2,\n",
       " 'min_samples_leaf': 3,\n",
       " 'min_samples_split': 4,\n",
       " 'n_estimators': 500}"
      ]
     },
     "execution_count": 282,
     "metadata": {},
     "output_type": "execute_result"
    }
   ],
   "source": [
    "grid_search.best_params_"
   ]
  },
  {
   "cell_type": "code",
   "execution_count": 283,
   "metadata": {
    "hidden": true
   },
   "outputs": [
    {
     "name": "stdout",
     "output_type": "stream",
     "text": [
      "Log Loss : 0.27141046277333547\n",
      "AUC precision-recall curve : 0.47626631485561993\n",
      "F1 Score: 0.4110091743119267\n",
      "F2 Score: 0.35782747603833864\n",
      "Accuracy : 0.8934970139349702\n",
      "\n",
      " Confusion Matrix : \n",
      " [[2581   93]\n",
      " [ 228  112]]\n"
     ]
    }
   ],
   "source": [
    "best_grid = grid_search.best_estimator_\n",
    "predictions = best_grid.predict(x_test)\n",
    "prediction_probs = best_grid.predict_proba(x_test)\n",
    "score_res(y_test, predictions, prediction_probs)"
   ]
  },
  {
   "cell_type": "code",
   "execution_count": 284,
   "metadata": {
    "hidden": true
   },
   "outputs": [
    {
     "data": {
      "text/html": [
       "<script>requirejs.config({paths: { 'plotly': ['https://cdn.plot.ly/plotly-latest.min']},});if(!window.Plotly) {{require(['plotly'],function(plotly) {window.Plotly=plotly;});}}</script>"
      ],
      "text/vnd.plotly.v1+html": [
       "<script>requirejs.config({paths: { 'plotly': ['https://cdn.plot.ly/plotly-latest.min']},});if(!window.Plotly) {{require(['plotly'],function(plotly) {window.Plotly=plotly;});}}</script>"
      ]
     },
     "metadata": {},
     "output_type": "display_data"
    },
    {
     "data": {
      "application/vnd.plotly.v1+json": {
       "data": [
        {
         "colorscale": "Jet",
         "type": "heatmap",
         "x": [
          0,
          1
         ],
         "y": [
          0,
          1
         ],
         "z": [
          [
           2581,
           93
          ],
          [
           228,
           112
          ]
         ]
        }
       ],
       "layout": {
        "barmode": "overlay",
        "height": 500,
        "title": "Confusion Matrix",
        "width": 500,
        "xaxis": {
         "title": "Predicted value",
         "titlefont": {
          "color": "#7f7f7f",
          "family": "Courier New, monospace",
          "size": 18
         }
        },
        "yaxis": {
         "title": "True Value",
         "titlefont": {
          "color": "#7f7f7f",
          "family": "Courier New, monospace",
          "size": 18
         }
        }
       }
      },
      "text/html": [
       "<div id=\"962f0d8c-5c66-4366-8541-ba2c5d483d06\" style=\"height: 500px; width: 500px;\" class=\"plotly-graph-div\"></div><script type=\"text/javascript\">require([\"plotly\"], function(Plotly) { window.PLOTLYENV=window.PLOTLYENV || {};window.PLOTLYENV.BASE_URL=\"https://plot.ly\";Plotly.newPlot(\"962f0d8c-5c66-4366-8541-ba2c5d483d06\", [{\"type\": \"heatmap\", \"x\": [0.0, 1.0], \"y\": [0.0, 1.0], \"z\": [[2581, 93], [228, 112]], \"colorscale\": \"Jet\"}], {\"width\": 500, \"height\": 500, \"barmode\": \"overlay\", \"title\": \"Confusion Matrix\", \"xaxis\": {\"title\": \"Predicted value\", \"titlefont\": {\"color\": \"#7f7f7f\", \"family\": \"Courier New, monospace\", \"size\": 18}}, \"yaxis\": {\"title\": \"True Value\", \"titlefont\": {\"color\": \"#7f7f7f\", \"family\": \"Courier New, monospace\", \"size\": 18}}}, {\"showLink\": true, \"linkText\": \"Export to plot.ly\"})});</script>"
      ],
      "text/vnd.plotly.v1+html": [
       "<div id=\"962f0d8c-5c66-4366-8541-ba2c5d483d06\" style=\"height: 500px; width: 500px;\" class=\"plotly-graph-div\"></div><script type=\"text/javascript\">require([\"plotly\"], function(Plotly) { window.PLOTLYENV=window.PLOTLYENV || {};window.PLOTLYENV.BASE_URL=\"https://plot.ly\";Plotly.newPlot(\"962f0d8c-5c66-4366-8541-ba2c5d483d06\", [{\"type\": \"heatmap\", \"x\": [0.0, 1.0], \"y\": [0.0, 1.0], \"z\": [[2581, 93], [228, 112]], \"colorscale\": \"Jet\"}], {\"width\": 500, \"height\": 500, \"barmode\": \"overlay\", \"title\": \"Confusion Matrix\", \"xaxis\": {\"title\": \"Predicted value\", \"titlefont\": {\"color\": \"#7f7f7f\", \"family\": \"Courier New, monospace\", \"size\": 18}}, \"yaxis\": {\"title\": \"True Value\", \"titlefont\": {\"color\": \"#7f7f7f\", \"family\": \"Courier New, monospace\", \"size\": 18}}}, {\"showLink\": true, \"linkText\": \"Export to plot.ly\"})});</script>"
      ]
     },
     "metadata": {},
     "output_type": "display_data"
    }
   ],
   "source": [
    "int_conf_mat(y_test, predictions)"
   ]
  },
  {
   "cell_type": "markdown",
   "metadata": {
    "heading_collapsed": true
   },
   "source": [
    "### Fitting KNN"
   ]
  },
  {
   "cell_type": "markdown",
   "metadata": {
    "hidden": true
   },
   "source": [
    "- Being an algorithm which is easy to implement and understand, KNN is a good choice to experiment.\n",
    "- It sometimes might give better results than other complicated algorithms if the points are distinctly seperated in the vector space "
   ]
  },
  {
   "cell_type": "code",
   "execution_count": 285,
   "metadata": {
    "hidden": true
   },
   "outputs": [
    {
     "data": {
      "text/plain": [
       "KNeighborsClassifier(algorithm='auto', leaf_size=30, metric='minkowski',\n",
       "           metric_params=None, n_jobs=-1, n_neighbors=7, p=2,\n",
       "           weights='uniform')"
      ]
     },
     "execution_count": 285,
     "metadata": {},
     "output_type": "execute_result"
    }
   ],
   "source": [
    "knn = KNeighborsClassifier(n_neighbors=7, n_jobs=-1)\n",
    "knn.fit(x_train, y_train)"
   ]
  },
  {
   "cell_type": "code",
   "execution_count": 286,
   "metadata": {
    "hidden": true
   },
   "outputs": [
    {
     "name": "stdout",
     "output_type": "stream",
     "text": [
      "Log Loss : 2.5564632625422172\n",
      "AUC precision-recall curve : 0.21861323501668417\n",
      "F1 Score: 0.2983508245877061\n",
      "F2 Score: 0.42268479184367036\n",
      "Accuracy : 0.6894492368944923\n",
      "\n",
      " Confusion Matrix : \n",
      " [[1879  795]\n",
      " [ 141  199]]\n"
     ]
    }
   ],
   "source": [
    "predictions = knn.predict(x_test)\n",
    "prediction_probs = knn.predict_proba(x_test)\n",
    "score_res(y_test, predictions, prediction_probs)"
   ]
  },
  {
   "cell_type": "code",
   "execution_count": 287,
   "metadata": {
    "hidden": true
   },
   "outputs": [
    {
     "data": {
      "text/html": [
       "<script>requirejs.config({paths: { 'plotly': ['https://cdn.plot.ly/plotly-latest.min']},});if(!window.Plotly) {{require(['plotly'],function(plotly) {window.Plotly=plotly;});}}</script>"
      ],
      "text/vnd.plotly.v1+html": [
       "<script>requirejs.config({paths: { 'plotly': ['https://cdn.plot.ly/plotly-latest.min']},});if(!window.Plotly) {{require(['plotly'],function(plotly) {window.Plotly=plotly;});}}</script>"
      ]
     },
     "metadata": {},
     "output_type": "display_data"
    },
    {
     "data": {
      "application/vnd.plotly.v1+json": {
       "data": [
        {
         "colorscale": "Jet",
         "type": "heatmap",
         "x": [
          0,
          1
         ],
         "y": [
          0,
          1
         ],
         "z": [
          [
           1879,
           795
          ],
          [
           141,
           199
          ]
         ]
        }
       ],
       "layout": {
        "barmode": "overlay",
        "height": 500,
        "title": "Confusion Matrix",
        "width": 500,
        "xaxis": {
         "title": "Predicted value",
         "titlefont": {
          "color": "#7f7f7f",
          "family": "Courier New, monospace",
          "size": 18
         }
        },
        "yaxis": {
         "title": "True Value",
         "titlefont": {
          "color": "#7f7f7f",
          "family": "Courier New, monospace",
          "size": 18
         }
        }
       }
      },
      "text/html": [
       "<div id=\"21e104ab-e12b-479a-bc96-d14f3bff4a94\" style=\"height: 500px; width: 500px;\" class=\"plotly-graph-div\"></div><script type=\"text/javascript\">require([\"plotly\"], function(Plotly) { window.PLOTLYENV=window.PLOTLYENV || {};window.PLOTLYENV.BASE_URL=\"https://plot.ly\";Plotly.newPlot(\"21e104ab-e12b-479a-bc96-d14f3bff4a94\", [{\"type\": \"heatmap\", \"x\": [0.0, 1.0], \"y\": [0.0, 1.0], \"z\": [[1879, 795], [141, 199]], \"colorscale\": \"Jet\"}], {\"width\": 500, \"height\": 500, \"barmode\": \"overlay\", \"title\": \"Confusion Matrix\", \"xaxis\": {\"title\": \"Predicted value\", \"titlefont\": {\"color\": \"#7f7f7f\", \"family\": \"Courier New, monospace\", \"size\": 18}}, \"yaxis\": {\"title\": \"True Value\", \"titlefont\": {\"color\": \"#7f7f7f\", \"family\": \"Courier New, monospace\", \"size\": 18}}}, {\"showLink\": true, \"linkText\": \"Export to plot.ly\"})});</script>"
      ],
      "text/vnd.plotly.v1+html": [
       "<div id=\"21e104ab-e12b-479a-bc96-d14f3bff4a94\" style=\"height: 500px; width: 500px;\" class=\"plotly-graph-div\"></div><script type=\"text/javascript\">require([\"plotly\"], function(Plotly) { window.PLOTLYENV=window.PLOTLYENV || {};window.PLOTLYENV.BASE_URL=\"https://plot.ly\";Plotly.newPlot(\"21e104ab-e12b-479a-bc96-d14f3bff4a94\", [{\"type\": \"heatmap\", \"x\": [0.0, 1.0], \"y\": [0.0, 1.0], \"z\": [[1879, 795], [141, 199]], \"colorscale\": \"Jet\"}], {\"width\": 500, \"height\": 500, \"barmode\": \"overlay\", \"title\": \"Confusion Matrix\", \"xaxis\": {\"title\": \"Predicted value\", \"titlefont\": {\"color\": \"#7f7f7f\", \"family\": \"Courier New, monospace\", \"size\": 18}}, \"yaxis\": {\"title\": \"True Value\", \"titlefont\": {\"color\": \"#7f7f7f\", \"family\": \"Courier New, monospace\", \"size\": 18}}}, {\"showLink\": true, \"linkText\": \"Export to plot.ly\"})});</script>"
      ]
     },
     "metadata": {},
     "output_type": "display_data"
    }
   ],
   "source": [
    "int_conf_mat(y_test, predictions)"
   ]
  },
  {
   "cell_type": "markdown",
   "metadata": {},
   "source": [
    "## Comments"
   ]
  },
  {
   "cell_type": "markdown",
   "metadata": {},
   "source": [
    "---------"
   ]
  },
  {
   "cell_type": "markdown",
   "metadata": {},
   "source": [
    "- We have tried three different type of models here. And we are tuning hyperparameters to optimize F1 score.\n",
    "- We can use Logistic regression or Random Forest model from these to go ahead with our predictions. The performance of both models is comparable and we can choose one of them based on our use-case. \n",
    "- We can also see that KNN increases the number of positive predictions, which is a good thing and can be used to optimize sampling.\n",
    "- We could have used feature engineering techniques (target encoding, feature generation, etc.) with some knowledge about the features and the target variable.\n",
    "- We can also use other anomaly detection and class balancing techniques with some knowledge of the variables and the exact requirement about the class we need to optimize."
   ]
  },
  {
   "cell_type": "markdown",
   "metadata": {},
   "source": [
    "--------"
   ]
  }
 ],
 "metadata": {
  "kernelspec": {
   "display_name": "Python 3",
   "language": "python",
   "name": "python3"
  },
  "language_info": {
   "codemirror_mode": {
    "name": "ipython",
    "version": 3
   },
   "file_extension": ".py",
   "mimetype": "text/x-python",
   "name": "python",
   "nbconvert_exporter": "python",
   "pygments_lexer": "ipython3",
   "version": "3.6.4"
  },
  "varInspector": {
   "cols": {
    "lenName": 16,
    "lenType": 16,
    "lenVar": 40
   },
   "kernels_config": {
    "python": {
     "delete_cmd_postfix": "",
     "delete_cmd_prefix": "del ",
     "library": "var_list.py",
     "varRefreshCmd": "print(var_dic_list())"
    },
    "r": {
     "delete_cmd_postfix": ") ",
     "delete_cmd_prefix": "rm(",
     "library": "var_list.r",
     "varRefreshCmd": "cat(var_dic_list()) "
    }
   },
   "types_to_exclude": [
    "module",
    "function",
    "builtin_function_or_method",
    "instance",
    "_Feature"
   ],
   "window_display": false
  }
 },
 "nbformat": 4,
 "nbformat_minor": 2
}
